{
 "cells": [
  {
   "cell_type": "code",
   "execution_count": 1,
   "metadata": {
    "scrolled": true
   },
   "outputs": [
    {
     "name": "stdout",
     "output_type": "stream",
     "text": [
      "249917.05427083327\n",
      "Time taken with vectorization: 7.7991485595703125ms\n",
      "--------------------------------------------